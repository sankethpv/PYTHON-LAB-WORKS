{
  "nbformat": 4,
  "nbformat_minor": 0,
  "metadata": {
    "colab": {
      "name": "LabSheet_4.ipynb",
      "provenance": [],
      "collapsed_sections": []
    },
    "kernelspec": {
      "name": "python3",
      "display_name": "Python 3"
    },
    "language_info": {
      "name": "python"
    }
  },
  "cells": [
    {
      "cell_type": "code",
      "source": [
        "#write a program to print the numbers from one to five using while loop\n",
        "a=0\n",
        "while a<=5:\n",
        "  print(\"count=\",a)\n",
        "  a=a+1"
      ],
      "metadata": {
        "colab": {
          "base_uri": "https://localhost:8080/"
        },
        "id": "OEMcF7yD4lzD",
        "outputId": "b2401a7e-2120-453a-cde4-945d120a2031"
      },
      "execution_count": null,
      "outputs": [
        {
          "output_type": "stream",
          "name": "stdout",
          "text": [
            "count= 0\n",
            "count= 1\n",
            "count= 2\n",
            "count= 3\n",
            "count= 4\n",
            "count= 5\n"
          ]
        }
      ]
    },
    {
      "cell_type": "code",
      "source": [
        "#Write a program to find the sum of first 10 consecutive numbers using While loop \n",
        "count=0\n",
        "sum=0\n",
        "while count<=10:\n",
        "  sum=sum+count\n",
        "  count=count+1\n",
        "print(\"Sum of the first 10 numbers is \",sum)"
      ],
      "metadata": {
        "colab": {
          "base_uri": "https://localhost:8080/"
        },
        "id": "oqMuep4J6aXz",
        "outputId": "f2fb99b8-76fb-41de-cdd4-4ce5c76e7c5c"
      },
      "execution_count": null,
      "outputs": [
        {
          "output_type": "stream",
          "name": "stdout",
          "text": [
            "Sum of the first 10 numbers is  55\n"
          ]
        }
      ]
    },
    {
      "cell_type": "code",
      "source": [
        "#Write a program to find the sum of the digits of a given number\n",
        "n=eval(input(\"Enter the number \"))\n",
        "x=n\n",
        "sum=0\n",
        "digit=0\n",
        "while(n>0):\n",
        "    rem=n%10\n",
        "    n=n//10\n",
        "    sum=sum+rem\n",
        "print(\"Sum of digits in the entered number is \",sum)\n"
      ],
      "metadata": {
        "colab": {
          "base_uri": "https://localhost:8080/"
        },
        "id": "u2leHo75zLeZ",
        "outputId": "4fa84011-8d01-4532-a391-f57ee02a293b"
      },
      "execution_count": 4,
      "outputs": [
        {
          "output_type": "stream",
          "name": "stdout",
          "text": [
            "Enter the number 123456789\n",
            "Sum of digits in the entered number is  9\n",
            "Sum of digits in the entered number is  17\n",
            "Sum of digits in the entered number is  24\n",
            "Sum of digits in the entered number is  30\n",
            "Sum of digits in the entered number is  35\n",
            "Sum of digits in the entered number is  39\n",
            "Sum of digits in the entered number is  42\n",
            "Sum of digits in the entered number is  44\n",
            "Sum of digits in the entered number is  45\n"
          ]
        }
      ]
    },
    {
      "cell_type": "code",
      "source": [
        "#Write a program to print the reverse of the input number\n",
        "num=eval(input(\"Enter the number\"))\n",
        "x=num\n",
        "rev=0\n",
        "while num>0:\n",
        "  rem=num%10\n",
        "  num=num//10\n",
        "  rev=rev*10+rem\n",
        "print(\"The reverse of the number\",x,\"is\",rev)\n"
      ],
      "metadata": {
        "colab": {
          "base_uri": "https://localhost:8080/"
        },
        "id": "v--639RLzLza",
        "outputId": "030916bd-0387-4086-f196-fe862af503a7"
      },
      "execution_count": 6,
      "outputs": [
        {
          "output_type": "stream",
          "name": "stdout",
          "text": [
            "Enter the number123456789\n",
            "The reverse of the number 123456789 is 9\n",
            "The reverse of the number 123456789 is 98\n",
            "The reverse of the number 123456789 is 987\n",
            "The reverse of the number 123456789 is 9876\n",
            "The reverse of the number 123456789 is 98765\n",
            "The reverse of the number 123456789 is 987654\n",
            "The reverse of the number 123456789 is 9876543\n",
            "The reverse of the number 123456789 is 98765432\n",
            "The reverse of the number 123456789 is 987654321\n"
          ]
        }
      ]
    },
    {
      "cell_type": "code",
      "source": [
        "#Write a program to print the sum of numbers from one to 20(including both) that are divisble by 5 using the while loop\n",
        "count=1\n",
        "sum=0\n",
        "while count<=20:\n",
        "  if count%5==0:\n",
        "     sum=sum + count\n",
        "     count=count+1\n",
        "     print(\"Sum of the numbers from 1 to 20 divisible by 5 is is \",sum)"
      ],
      "metadata": {
        "id": "NEp6qRaWzL45"
      },
      "execution_count": null,
      "outputs": []
    },
    {
      "cell_type": "code",
      "source": [
        "#Write a program, to find the factorial of a number using while loop condition\n",
        "num=int(input(\"Enter the number\"))\n",
        "fact=1\n",
        "ans=1\n",
        "while fact<=num:\n",
        "  ans=ans*fact\n",
        "  fact=fact+1\n",
        "print(\"Factorial of\",num,\"is\",ans)"
      ],
      "metadata": {
        "colab": {
          "base_uri": "https://localhost:8080/"
        },
        "id": "mluXau85zk3P",
        "outputId": "d005452f-1885-47fa-c925-9608cc48f496"
      },
      "execution_count": 3,
      "outputs": [
        {
          "output_type": "stream",
          "name": "stdout",
          "text": [
            "Enter the number5\n",
            "Factorial of 5 is 1\n",
            "Factorial of 5 is 2\n",
            "Factorial of 5 is 6\n",
            "Factorial of 5 is 24\n",
            "Factorial of 5 is 120\n"
          ]
        }
      ]
    },
    {
      "cell_type": "code",
      "source": [
        "#Write a program to check whether the input number is amstrong number or not\n",
        "num=int(input(\"Enter the number\"))\n",
        "sum=0\n",
        "x=num\n",
        "while num>0:\n",
        "  d=num%10\n",
        "  num=num//10\n",
        "  sum=sum+(d*d*d)\n",
        "if(sum==x):\n",
        "  print(\"The number\",num,\"is an Amstrong Number\")\n",
        "else:\n",
        "  print(\"The number\",x,\"is not an Amstrong Number\")"
      ],
      "metadata": {
        "colab": {
          "base_uri": "https://localhost:8080/"
        },
        "id": "m4pmm5AIzzQe",
        "outputId": "30d8161d-d5ea-4bff-b8e3-c294346c82be"
      },
      "execution_count": 1,
      "outputs": [
        {
          "output_type": "stream",
          "name": "stdout",
          "text": [
            "Enter the number123456\n",
            "The number 123456 is not an Amstrong Number\n"
          ]
        }
      ]
    },
    {
      "cell_type": "code",
      "source": [
        "#RANGE\n",
        "a=range(6)\n",
        "print(\"the range of 6 is \",a)\n",
        "b=range(5,0,-2)\n",
        "print(\"the range of 6 is \",b)\n",
        "c=range(-4,4,2)\n",
        "print(\"the range of 6 is \",c)\n",
        "d=range(9,-7,2)\n",
        "print(\"the range of 6 is \",d)\n",
        "e=range(0,6)\n",
        "print(\"the range of 6 is \",a)\n",
        "\n",
        "\n",
        "\n",
        "\n"
      ],
      "metadata": {
        "id": "A0Th4azX4Sfe"
      },
      "execution_count": null,
      "outputs": []
    },
    {
      "cell_type": "code",
      "source": [
        "#Write a program to print 1 to 5 using for loop\n",
        "for i in range(1,6):\n",
        "  print(i)\n",
        "print(\"End of the program\")"
      ],
      "metadata": {
        "id": "y0cfAgRm5Ij-"
      },
      "execution_count": null,
      "outputs": []
    },
    {
      "cell_type": "code",
      "source": [
        "#Write a program to print 1 to 10 in reverse order \n",
        "for i in range(10,0,-1):\n",
        "  print(i)\n",
        "print(\"End of the program\")"
      ],
      "metadata": {
        "id": "l0pTQc-G5n7l"
      },
      "execution_count": null,
      "outputs": []
    },
    {
      "cell_type": "code",
      "source": [
        "#Write a program to calculate the square of numbers from 1 to 6\n",
        "for i in range(1,6):\n",
        "  square=i*i\n",
        "  print(\"Square of\",i,\"is\",square)"
      ],
      "metadata": {
        "id": "i5gDJucC6jaE"
      },
      "execution_count": null,
      "outputs": []
    }
  ]
}