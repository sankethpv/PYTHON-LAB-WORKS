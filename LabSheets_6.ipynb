{
  "nbformat": 4,
  "nbformat_minor": 0,
  "metadata": {
    "colab": {
      "name": "LabSheets_6.ipynb",
      "provenance": [],
      "collapsed_sections": []
    },
    "kernelspec": {
      "name": "python3",
      "display_name": "Python 3"
    },
    "language_info": {
      "name": "python"
    }
  },
  "cells": [
    {
      "cell_type": "markdown",
      "source": [
        "FUNCTIONS"
      ],
      "metadata": {
        "id": "BNwZ2CEsVEKI"
      }
    },
    {
      "cell_type": "code",
      "source": [
        "#Write a program to create a function having name,display.print \"python programming\" inside the function\n",
        "def display():\n",
        "  print(\"Welcome to the python python programming\")\n",
        "display()"
      ],
      "metadata": {
        "colab": {
          "base_uri": "https://localhost:8080/"
        },
        "id": "WKQJb86fVOfl",
        "outputId": "8b57a149-8123-4149-b803-5b09ba59a27c"
      },
      "execution_count": null,
      "outputs": [
        {
          "output_type": "stream",
          "name": "stdout",
          "text": [
            "Welcome to the python python programming\n"
          ]
        }
      ]
    },
    {
      "cell_type": "code",
      "source": [
        "#Write a program to prompt the name of a user and print the welcome message  Dear Name_of_The user from the function\n",
        "def print_msg():\n",
        "  str1=input(\"Please Enter Your name:\")\n",
        "  print(\"Dear \",str1,\"Welcome to the python programming\")\n",
        "print_msg()\n",
        "  "
      ],
      "metadata": {
        "id": "VZTQYQwjWdKo",
        "colab": {
          "base_uri": "https://localhost:8080/"
        },
        "outputId": "28e2e1c1-b789-4d9d-b03e-a7180a45046d"
      },
      "execution_count": null,
      "outputs": [
        {
          "output_type": "stream",
          "name": "stdout",
          "text": [
            "Please Enter Your name:SANKETH\n",
            "Dear  SANKETH Welcome to the python programming\n"
          ]
        }
      ]
    },
    {
      "cell_type": "code",
      "source": [
        "#Write a program to find the max of two numbers\n",
        "def printMax(num1,num2):\n",
        "  print(\"num1=\",num1)\n",
        "  print(\"num2=\",num2)\n",
        "  if num1>num2:\n",
        "    print(\"The Number \",num1,\"is greater than \",num2)\n",
        "  elif num1<num2:\n",
        "    print(\"The Number \",num2,\"is greater than\",num1)\n",
        "  else:\n",
        "    print(\"Both Numbers\",num1,\"and\",num2,\"are equal\")\n",
        "printMax(10,80)\n"
      ],
      "metadata": {
        "colab": {
          "base_uri": "https://localhost:8080/"
        },
        "id": "YRxhUNS3XyKa",
        "outputId": "4d8dc32f-2d19-400e-aa79-0a0253809e58"
      },
      "execution_count": null,
      "outputs": [
        {
          "output_type": "stream",
          "name": "stdout",
          "text": [
            "num1= 10\n",
            "num2= 80\n",
            "The Number  80 is greater than 10\n"
          ]
        }
      ]
    },
    {
      "cell_type": "code",
      "source": [
        "#Write a program to find the factorial of a number using FUNCTION method\n",
        "def calc_factorial(num):\n",
        "  fact=1\n",
        "  print(\"Entered Number is:\",num)\n",
        "  for i in range(1,num+1):\n",
        "    fact=fact*i\n",
        "  print(\"factorial of number \",num,\"is =\",fact)\n",
        "n=int(input(\"Enter a number\"))\n",
        "calc_factorial(n)"
      ],
      "metadata": {
        "colab": {
          "base_uri": "https://localhost:8080/"
        },
        "id": "81Wyiajpb-oW",
        "outputId": "0f5a3632-a9db-4f04-d5de-ba63df979147"
      },
      "execution_count": null,
      "outputs": [
        {
          "output_type": "stream",
          "name": "stdout",
          "text": [
            "Enter a number2\n",
            "Entered Number is: 2\n",
            "factorial of number  2 is = 2\n"
          ]
        }
      ]
    },
    {
      "cell_type": "code",
      "source": [
        "#Write a program to input to the data using FUNCTION operation\n",
        "def profession(Name, age=45, prof=\"Teaching\"):\n",
        "  print(\"Name\",Name)\n",
        "  print(\"age\",age)\n",
        "  print(\"prof\",prof)\n",
        "profession(\"radha\")"
      ],
      "metadata": {
        "id": "4gvJ1vNQcoC4",
        "colab": {
          "base_uri": "https://localhost:8080/"
        },
        "outputId": "7154b6ca-f392-4d7d-ff32-289810454f13"
      },
      "execution_count": null,
      "outputs": [
        {
          "output_type": "stream",
          "name": "stdout",
          "text": [
            "Name radha\n",
            "age 45\n",
            "prof Teaching\n"
          ]
        }
      ]
    },
    {
      "cell_type": "code",
      "source": [
        "#Write a program to input to the data using FUNCTION operation\n",
        "def profession1(Name, age, prof):\n",
        "  print(\"Name\",Name)\n",
        "  print(\"age\",age)\n",
        "  print(\"prof\",prof)\n",
        "profession(\"Radha\",45,\"Teaching\")"
      ],
      "metadata": {
        "colab": {
          "base_uri": "https://localhost:8080/"
        },
        "id": "DubgBnhy4fTE",
        "outputId": "41975a83-3b7e-4649-c5f2-7f11a3dd5100"
      },
      "execution_count": null,
      "outputs": [
        {
          "output_type": "stream",
          "name": "stdout",
          "text": [
            "Name Radha\n",
            "age 45\n",
            "prof Teaching\n"
          ]
        }
      ]
    },
    {
      "cell_type": "code",
      "source": [
        "#Write a program to find the area of a circle where area id defined outside the function\n",
        "def area(pi,radius):\n",
        "  area=pi*radius*radius\n",
        "  print(area)\n",
        "area(3.14,100)\n"
      ],
      "metadata": {
        "colab": {
          "base_uri": "https://localhost:8080/"
        },
        "id": "AHMOxYNG5bWi",
        "outputId": "ebd22857-3f24-4fcc-be8f-cd49ffff982e"
      },
      "execution_count": null,
      "outputs": [
        {
          "output_type": "stream",
          "name": "stdout",
          "text": [
            "31400.0\n"
          ]
        }
      ]
    },
    {
      "cell_type": "code",
      "source": [
        "def disp_values(a,b=10,c=20):\n",
        "  print(\"a=\",a,\"b=\",b,\"c=\",c)\n",
        "disp_values(15)\n",
        "disp_values(50,b=50)\n",
        "disp_values(c=80,a=25,b=45)"
      ],
      "metadata": {
        "colab": {
          "base_uri": "https://localhost:8080/"
        },
        "id": "bsV_875B7rkC",
        "outputId": "10e3b084-9b31-413f-8e44-d4d9bcc9511c"
      },
      "execution_count": null,
      "outputs": [
        {
          "output_type": "stream",
          "name": "stdout",
          "text": [
            "a= 15 b= 10 c= 20\n",
            "a= 50 b= 50 c= 20\n",
            "a= 25 b= 45 c= 80\n"
          ]
        }
      ]
    },
    {
      "cell_type": "markdown",
      "source": [
        "LOCAL VARIABLES & GLOBAL VARIABLES"
      ],
      "metadata": {
        "id": "DcaQnLsNeivV"
      }
    },
    {
      "cell_type": "code",
      "source": [
        "#q=local variable\n",
        "#p=Local variable\n",
        "p=20\n",
        "def demo():\n",
        "  q=10\n",
        "  print(\"The value of Local variable q:\",q)\n",
        "  print(\"The value of Global variable p:\",p)\n",
        "demo()\n",
        "print(\"The value of Local variable q:\",q)\n",
        "print(\"The value of Global variable p:\",p)\n"
      ],
      "metadata": {
        "colab": {
          "base_uri": "https://localhost:8080/",
          "height": 263
        },
        "id": "4g3Is38F9LS5",
        "outputId": "b50c9357-53e0-46af-d79f-8a02a9e942c6"
      },
      "execution_count": null,
      "outputs": [
        {
          "output_type": "stream",
          "name": "stdout",
          "text": [
            "The value of Local variable q: 10\n",
            "The value of Global variable p: 20\n"
          ]
        },
        {
          "output_type": "error",
          "ename": "NameError",
          "evalue": "ignored",
          "traceback": [
            "\u001b[0;31m---------------------------------------------------------------------------\u001b[0m",
            "\u001b[0;31mNameError\u001b[0m                                 Traceback (most recent call last)",
            "\u001b[0;32m<ipython-input-21-f5df4ddb9126>\u001b[0m in \u001b[0;36m<module>\u001b[0;34m()\u001b[0m\n\u001b[1;32m      7\u001b[0m   \u001b[0mprint\u001b[0m\u001b[0;34m(\u001b[0m\u001b[0;34m\"The value of Global variable p:\"\u001b[0m\u001b[0;34m,\u001b[0m\u001b[0mp\u001b[0m\u001b[0;34m)\u001b[0m\u001b[0;34m\u001b[0m\u001b[0;34m\u001b[0m\u001b[0m\n\u001b[1;32m      8\u001b[0m \u001b[0mdemo\u001b[0m\u001b[0;34m(\u001b[0m\u001b[0;34m)\u001b[0m\u001b[0;34m\u001b[0m\u001b[0;34m\u001b[0m\u001b[0m\n\u001b[0;32m----> 9\u001b[0;31m \u001b[0mprint\u001b[0m\u001b[0;34m(\u001b[0m\u001b[0;34m\"The value of Local variable q:\"\u001b[0m\u001b[0;34m,\u001b[0m\u001b[0mq\u001b[0m\u001b[0;34m)\u001b[0m\u001b[0;34m\u001b[0m\u001b[0;34m\u001b[0m\u001b[0m\n\u001b[0m\u001b[1;32m     10\u001b[0m \u001b[0mprint\u001b[0m\u001b[0;34m(\u001b[0m\u001b[0;34m\"The value of Global variable p:\"\u001b[0m\u001b[0;34m,\u001b[0m\u001b[0mp\u001b[0m\u001b[0;34m)\u001b[0m\u001b[0;34m\u001b[0m\u001b[0;34m\u001b[0m\u001b[0m\n",
            "\u001b[0;31mNameError\u001b[0m: name 'q' is not defined"
          ]
        }
      ]
    },
    {
      "cell_type": "code",
      "source": [
        "def demo():\n",
        "  print(s)\n",
        "s=\"I Love programming in Python\"\n",
        "S=\"I Love Python\"\n",
        "demo()\n",
        "print(s)"
      ],
      "metadata": {
        "colab": {
          "base_uri": "https://localhost:8080/"
        },
        "id": "ai7eKZex_Y7d",
        "outputId": "57e1dc01-5ec2-47b4-d108-71c398ce34f0"
      },
      "execution_count": null,
      "outputs": [
        {
          "output_type": "stream",
          "name": "stdout",
          "text": [
            "I Love programming in Python\n"
          ]
        }
      ]
    },
    {
      "cell_type": "code",
      "source": [
        "def minimum(a,b):\n",
        "  if a<b:\n",
        "    return a\n",
        "  elif b<a:\n",
        "    return b\n",
        "  else:\n",
        "    return \"Both the numbers arfe equal\"\n",
        "print(minimum(100,100))"
      ],
      "metadata": {
        "colab": {
          "base_uri": "https://localhost:8080/"
        },
        "id": "V65FtTT3Bgp5",
        "outputId": "13296b27-f8a8-47a3-d6fe-8773e4dc0b3d"
      },
      "execution_count": null,
      "outputs": [
        {
          "output_type": "stream",
          "name": "stdout",
          "text": [
            "Both the numbers arfe equal\n"
          ]
        }
      ]
    },
    {
      "cell_type": "code",
      "source": [
        "def arthim(num1,num2):\n",
        "  return(num1+num2,num1-num2)\n",
        "print(arthim(10,20))"
      ],
      "metadata": {
        "colab": {
          "base_uri": "https://localhost:8080/"
        },
        "id": "-Iv3dxx1CiuL",
        "outputId": "93becc00-c8cb-41c5-de13-edb0501b8d9e"
      },
      "execution_count": null,
      "outputs": [
        {
          "output_type": "stream",
          "name": "stdout",
          "text": [
            "(30, -10)\n"
          ]
        }
      ]
    }
  ]
}