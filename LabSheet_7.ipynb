{
  "nbformat": 4,
  "nbformat_minor": 0,
  "metadata": {
    "colab": {
      "name": "LabSheet_7.ipynb",
      "provenance": [],
      "collapsed_sections": []
    },
    "kernelspec": {
      "name": "python3",
      "display_name": "Python 3"
    },
    "language_info": {
      "name": "python"
    }
  },
  "cells": [
    {
      "cell_type": "code",
      "execution_count": null,
      "metadata": {
        "id": "pXZLWQvg1Cx9"
      },
      "outputs": [],
      "source": [
        "#Creates an Empty string\n",
        "S1=str()"
      ]
    },
    {
      "cell_type": "code",
      "source": [
        "#Creates an String Object\n",
        "S2=str(\"Hello\")"
      ],
      "metadata": {
        "id": "Ewa6_-s51Z4f"
      },
      "execution_count": null,
      "outputs": []
    },
    {
      "cell_type": "code",
      "source": [
        "#Creates an Empty string Object\n",
        "S3=\" \""
      ],
      "metadata": {
        "id": "NLFeItIm1mH9"
      },
      "execution_count": null,
      "outputs": []
    },
    {
      "cell_type": "code",
      "source": [
        "S4=\"Hello\""
      ],
      "metadata": {
        "id": "ltvtTVl711iw"
      },
      "execution_count": null,
      "outputs": []
    },
    {
      "cell_type": "markdown",
      "source": [
        "Length,Minimum,Maximum,Indexing"
      ],
      "metadata": {
        "id": "qOSuU0qqgZe2"
      }
    },
    {
      "cell_type": "code",
      "source": [
        "a=\"PYTHON\"\n",
        "print(len(a))\n",
        "print(min(a))\n",
        "print(max(a))\n",
        "print(a[5])\n",
        "print(a[1])\n",
        "print(a[2])\n",
        "print(a[-1])\n",
        "print(a[-6])"
      ],
      "metadata": {
        "colab": {
          "base_uri": "https://localhost:8080/"
        },
        "id": "BSCcSfYz15rF",
        "outputId": "28a92a9e-0a3d-4613-d3bf-e7ab0e68f6f6"
      },
      "execution_count": null,
      "outputs": [
        {
          "output_type": "stream",
          "name": "stdout",
          "text": [
            "6\n",
            "H\n",
            "Y\n",
            "N\n",
            "Y\n",
            "T\n",
            "N\n",
            "P\n"
          ]
        }
      ]
    },
    {
      "cell_type": "code",
      "source": [
        "a=\"PYTHON\"\n",
        "print(a[-9])\n",
        "print(a[6])"
      ],
      "metadata": {
        "colab": {
          "base_uri": "https://localhost:8080/",
          "height": 200
        },
        "id": "9chojNAV2aOV",
        "outputId": "ae768126-b086-43ac-d157-ed6e0d65b70e"
      },
      "execution_count": null,
      "outputs": [
        {
          "output_type": "error",
          "ename": "IndexError",
          "evalue": "ignored",
          "traceback": [
            "\u001b[0;31m---------------------------------------------------------------------------\u001b[0m",
            "\u001b[0;31mIndexError\u001b[0m                                Traceback (most recent call last)",
            "\u001b[0;32m<ipython-input-11-c1ef16ce0c4e>\u001b[0m in \u001b[0;36m<module>\u001b[0;34m()\u001b[0m\n\u001b[1;32m      1\u001b[0m \u001b[0ma\u001b[0m\u001b[0;34m=\u001b[0m\u001b[0;34m\"PYTHON\"\u001b[0m\u001b[0;34m\u001b[0m\u001b[0;34m\u001b[0m\u001b[0m\n\u001b[0;32m----> 2\u001b[0;31m \u001b[0mprint\u001b[0m\u001b[0;34m(\u001b[0m\u001b[0ma\u001b[0m\u001b[0;34m[\u001b[0m\u001b[0;34m-\u001b[0m\u001b[0;36m9\u001b[0m\u001b[0;34m]\u001b[0m\u001b[0;34m)\u001b[0m\u001b[0;34m\u001b[0m\u001b[0;34m\u001b[0m\u001b[0m\n\u001b[0m\u001b[1;32m      3\u001b[0m \u001b[0mprint\u001b[0m\u001b[0;34m(\u001b[0m\u001b[0ma\u001b[0m\u001b[0;34m[\u001b[0m\u001b[0;36m6\u001b[0m\u001b[0;34m]\u001b[0m\u001b[0;34m)\u001b[0m\u001b[0;34m\u001b[0m\u001b[0;34m\u001b[0m\u001b[0m\n",
            "\u001b[0;31mIndexError\u001b[0m: string index out of range"
          ]
        }
      ]
    },
    {
      "cell_type": "code",
      "source": [
        "#Write a program to create a traverse of the given word\n",
        "S=\"INDIA\"\n",
        "for ch in S:\n",
        "  print(ch,end=\" \")"
      ],
      "metadata": {
        "colab": {
          "base_uri": "https://localhost:8080/"
        },
        "id": "34U3jfo02-cC",
        "outputId": "4c59f196-5327-45e3-8607-05d440b7ca51"
      },
      "execution_count": null,
      "outputs": [
        {
          "output_type": "stream",
          "name": "stdout",
          "text": [
            "I N D I A "
          ]
        }
      ]
    },
    {
      "cell_type": "code",
      "source": [
        "#Write a program to create a traverse of the given word through indexing\n",
        "S=\"ILOVEPYTHONPROGRAMMING\"\n",
        "for ch in range(0,len(S),2):\n",
        "  print(S[ch],end=\" \")"
      ],
      "metadata": {
        "colab": {
          "base_uri": "https://localhost:8080/"
        },
        "id": "fgKhIJVS3XdB",
        "outputId": "0ca8a785-7db2-4be1-fab8-2de9669c900f"
      },
      "execution_count": null,
      "outputs": [
        {
          "output_type": "stream",
          "name": "stdout",
          "text": [
            "I O E Y H N R G A M N "
          ]
        }
      ]
    },
    {
      "cell_type": "code",
      "source": [
        "#Write a program to create a traverse of the given word through indexing\n",
        "\n",
        "S=\"ILOVEPYTHONPROGRAMMING\"\n",
        "Index=0\n",
        "while (Index<len(S)):\n",
        "   print(S[Index],end=\" \")\n",
        "   Index=Index+1"
      ],
      "metadata": {
        "colab": {
          "base_uri": "https://localhost:8080/"
        },
        "id": "w1FcMHS14jgr",
        "outputId": "928ca81b-662c-4e64-d48c-ae02ea10806d"
      },
      "execution_count": null,
      "outputs": [
        {
          "output_type": "stream",
          "name": "stdout",
          "text": [
            "I L O V E P Y T H O N P R O G R A M M I N G "
          ]
        }
      ]
    },
    {
      "cell_type": "markdown",
      "source": [
        "IMMUTABLE STRING"
      ],
      "metadata": {
        "id": "2y0cNkdW6Crm"
      }
    },
    {
      "cell_type": "code",
      "source": [
        "str1=\"I Love Python\"\n",
        "str1\n",
        "str1[0]=\"U\"\n",
        "print(str1)\n"
      ],
      "metadata": {
        "colab": {
          "base_uri": "https://localhost:8080/",
          "height": 217
        },
        "id": "6_P0hKfu6FRh",
        "outputId": "e811b070-2071-4c73-e4fd-16ebcc679a57"
      },
      "execution_count": null,
      "outputs": [
        {
          "output_type": "error",
          "ename": "TypeError",
          "evalue": "ignored",
          "traceback": [
            "\u001b[0;31m---------------------------------------------------------------------------\u001b[0m",
            "\u001b[0;31mTypeError\u001b[0m                                 Traceback (most recent call last)",
            "\u001b[0;32m<ipython-input-27-37d2204adb02>\u001b[0m in \u001b[0;36m<module>\u001b[0;34m()\u001b[0m\n\u001b[1;32m      1\u001b[0m \u001b[0mstr1\u001b[0m\u001b[0;34m=\u001b[0m\u001b[0;34m\"I Love Python\"\u001b[0m\u001b[0;34m\u001b[0m\u001b[0;34m\u001b[0m\u001b[0m\n\u001b[1;32m      2\u001b[0m \u001b[0mstr1\u001b[0m\u001b[0;34m\u001b[0m\u001b[0;34m\u001b[0m\u001b[0m\n\u001b[0;32m----> 3\u001b[0;31m \u001b[0mstr1\u001b[0m\u001b[0;34m[\u001b[0m\u001b[0;36m0\u001b[0m\u001b[0;34m]\u001b[0m\u001b[0;34m=\u001b[0m\u001b[0;34m\"U\"\u001b[0m\u001b[0;34m\u001b[0m\u001b[0;34m\u001b[0m\u001b[0m\n\u001b[0m\u001b[1;32m      4\u001b[0m \u001b[0mprint\u001b[0m\u001b[0;34m(\u001b[0m\u001b[0mstr1\u001b[0m\u001b[0;34m)\u001b[0m\u001b[0;34m\u001b[0m\u001b[0;34m\u001b[0m\u001b[0m\n",
            "\u001b[0;31mTypeError\u001b[0m: 'str' object does not support item assignment"
          ]
        }
      ]
    },
    {
      "cell_type": "markdown",
      "source": [
        "End,Start,capitalize,Lower,upper,Count,find,Title Function...."
      ],
      "metadata": {
        "id": "85XBv4-9hPHz"
      }
    },
    {
      "cell_type": "code",
      "source": [
        "S=\"PYTHON PROGRAMMING\"\n",
        "print(S.endswith(\"PROGRAMMING\"))\n",
        "print(S.startswith(\"PYTHON\"))\n",
        "print(S.capitalize())\n",
        "print(S.lower())\n",
        "print(S.upper())\n",
        "print(S.count('o'))\n",
        "print(S.rfind('o'))\n",
        "print(S.find('o'))\n",
        "print(S.title())\n",
        "\n",
        "\n"
      ],
      "metadata": {
        "id": "K-7jYECv6iQ2",
        "colab": {
          "base_uri": "https://localhost:8080/"
        },
        "outputId": "5030fa70-5a36-48cd-81af-db4879f733be"
      },
      "execution_count": null,
      "outputs": [
        {
          "output_type": "stream",
          "name": "stdout",
          "text": [
            "True\n",
            "True\n",
            "Python programming\n",
            "python programming\n",
            "PYTHON PROGRAMMING\n",
            "0\n",
            "-1\n",
            "-1\n",
            "Python Programming\n"
          ]
        }
      ]
    },
    {
      "cell_type": "code",
      "source": [
        "#Write a program to replace a word of a string object\n",
        "S1=(S.replace(\"PYTHON\",\"Java\"))\n",
        "S1"
      ],
      "metadata": {
        "colab": {
          "base_uri": "https://localhost:8080/",
          "height": 35
        },
        "id": "149F1z5sHRyT",
        "outputId": "4421c18a-087e-4125-e972-1e21577e8942"
      },
      "execution_count": null,
      "outputs": [
        {
          "output_type": "execute_result",
          "data": {
            "text/plain": [
              "'Java PROGRAMMING'"
            ],
            "application/vnd.google.colaboratory.intrinsic+json": {
              "type": "string"
            }
          },
          "metadata": {},
          "execution_count": 54
        }
      ]
    },
    {
      "cell_type": "code",
      "source": [
        "sen1=\"North America\"\n",
        "sen2=\"South America\"\n",
        "print(\"sen1=\",sen1)\n",
        "print(\"sen2=\",sen2)\n",
        "print(\"The words that appear in sen1 and also sen2 is\")\n",
        "for letter in sen1:\n",
        "  if letter in sen2:\n",
        "    print(letter,end=\" \")"
      ],
      "metadata": {
        "id": "WPxbJ1Km8vs1",
        "colab": {
          "base_uri": "https://localhost:8080/"
        },
        "outputId": "7a5106b2-66da-493e-8a6f-7225cd4feaa9"
      },
      "execution_count": null,
      "outputs": [
        {
          "output_type": "stream",
          "name": "stdout",
          "text": [
            "sen1= North America\n",
            "sen2= South America\n",
            "The words that appear in sen1 and also sen2 is\n",
            "o r t h   A m e r i c a "
          ]
        }
      ]
    },
    {
      "cell_type": "code",
      "source": [
        "#Write a function to split the characters of the following string\n",
        "Companies=\"TCS,INFOSYS ,MICROSOFT,YAHOO,GOOGLE\"\n",
        "com=Companies.split(\",\")\n",
        "print(com)\n",
        "for c in com:\n",
        "  print(end=\" \")\n",
        "  print(c)"
      ],
      "metadata": {
        "colab": {
          "base_uri": "https://localhost:8080/"
        },
        "id": "Y4Hh2U2x_TWt",
        "outputId": "f8565ec4-3d2a-4881-a408-dc1e8134910a"
      },
      "execution_count": null,
      "outputs": [
        {
          "output_type": "stream",
          "name": "stdout",
          "text": [
            "['TCS', 'INFOSYS ', 'MICROSOFT', 'YAHOO', 'GOOGLE']\n",
            " TCS\n",
            " INFOSYS \n",
            " MICROSOFT\n",
            " YAHOO\n",
            " GOOGLE\n"
          ]
        }
      ]
    },
    {
      "cell_type": "code",
      "source": [
        "#Write a program to find the total number of repeat of the specific characters of the follwing String\n",
        "def countb(word):\n",
        "  print(word)\n",
        "  count=0\n",
        "  for b in word:\n",
        "    if(b=='b'):\n",
        "      count=count+1\n",
        "  return count\n",
        "print(\"Number of 'b'= \",countb(\"abbacbbbedbb\"))"
      ],
      "metadata": {
        "colab": {
          "base_uri": "https://localhost:8080/"
        },
        "id": "SOYscWHoAbu4",
        "outputId": "58c77f1d-20db-42a1-aeee-22eebb252c93"
      },
      "execution_count": null,
      "outputs": [
        {
          "output_type": "stream",
          "name": "stdout",
          "text": [
            "abbacbbbedbb\n",
            "Number of 'b'=  7\n"
          ]
        }
      ]
    },
    {
      "cell_type": "code",
      "source": [
        "#Write a program to find the total number of repeat of the specific characters of the follwing String\n",
        "def count_letter(word,letter):\n",
        "  print(\"Word =\",word)\n",
        "  print(\"Letter to count\",letter)\n",
        "  print(\"Occurances of \",letter,\" is =\",end = \"\")\n",
        "  count=0\n",
        "  for i in word:\n",
        "    if(i==letter):\n",
        "      count=count+1\n",
        "  return count\n",
        "X=count_letter(\"INDIA\",'I')\n",
        "print(X)"
      ],
      "metadata": {
        "colab": {
          "base_uri": "https://localhost:8080/"
        },
        "id": "ibSvwcEzBlnB",
        "outputId": "36e8a0d2-648b-48a3-ecbd-b643b9da33a6"
      },
      "execution_count": null,
      "outputs": [
        {
          "output_type": "stream",
          "name": "stdout",
          "text": [
            "Word = INDIA\n",
            "Letter to count I\n",
            "Occurances of  I  is =2\n"
          ]
        }
      ]
    },
    {
      "cell_type": "code",
      "source": [
        "#Write a program to create swapping among the following strings\n",
        "def modify_case(word):\n",
        "  print(\"Original String = \",word)\n",
        "  print(\"After swapping String = \",end = \"\")\n",
        "  return word.swapcase()\n",
        "print(modify_case(\"PYTHON is interesting,right?\"))"
      ],
      "metadata": {
        "colab": {
          "base_uri": "https://localhost:8080/"
        },
        "id": "NHL9ItAVEJRO",
        "outputId": "65612746-962f-4239-c84c-f29795f6f7fb"
      },
      "execution_count": null,
      "outputs": [
        {
          "output_type": "stream",
          "name": "stdout",
          "text": [
            "Original String =  PYTHON is interesting,right?\n",
            "After swapping String = python IS INTERESTING,RIGHT?\n"
          ]
        }
      ]
    },
    {
      "cell_type": "code",
      "source": [
        "def getChar(word,pos):\n",
        "  print(\"Word = \",word)\n",
        "  print(\"Character Position \",pos,\"=\", end =\"\")\n",
        "  counter = 0\n",
        "  for i in word:\n",
        "    counter = counter+1\n",
        "    if(counter==pos):\n",
        "      return i\n",
        "print(getChar(\"Addicted to python\",3))"
      ],
      "metadata": {
        "colab": {
          "base_uri": "https://localhost:8080/"
        },
        "id": "sixr-h_DFntY",
        "outputId": "d28a72f4-3eec-4b33-a3b7-ef3a608b1831"
      },
      "execution_count": null,
      "outputs": [
        {
          "output_type": "stream",
          "name": "stdout",
          "text": [
            "Word =  Addicted to python\n",
            "Character Position  3 =d\n"
          ]
        }
      ]
    }
  ]
}