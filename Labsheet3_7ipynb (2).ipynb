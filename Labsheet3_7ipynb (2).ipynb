{
  "nbformat": 4,
  "nbformat_minor": 0,
  "metadata": {
    "colab": {
      "name": "Labsheet3.7ipynb",
      "provenance": [],
      "collapsed_sections": []
    },
    "kernelspec": {
      "name": "python3",
      "display_name": "Python 3"
    },
    "language_info": {
      "name": "python"
    }
  },
  "cells": [
    {
      "cell_type": "code",
      "execution_count": null,
      "metadata": {
        "colab": {
          "base_uri": "https://localhost:8080/"
        },
        "id": "ByD7iP604iuo",
        "outputId": "a24b0e06-80e0-4a5d-da19-c5b68f12548e"
      },
      "outputs": [
        {
          "output_type": "execute_result",
          "data": {
            "text/plain": [
              "True"
            ]
          },
          "metadata": {},
          "execution_count": 1
        }
      ],
      "source": [
        "True"
      ]
    },
    {
      "cell_type": "code",
      "source": [
        "False"
      ],
      "metadata": {
        "colab": {
          "base_uri": "https://localhost:8080/"
        },
        "id": "ght5rDmk6RKU",
        "outputId": "763bd8e0-e981-446b-aba0-e8d131f96e9f"
      },
      "execution_count": null,
      "outputs": [
        {
          "output_type": "execute_result",
          "data": {
            "text/plain": [
              "False"
            ]
          },
          "metadata": {},
          "execution_count": 2
        }
      ]
    },
    {
      "cell_type": "code",
      "source": [
        "type(True)"
      ],
      "metadata": {
        "colab": {
          "base_uri": "https://localhost:8080/"
        },
        "id": "YzJXVq576YmB",
        "outputId": "31c57ff6-7503-4780-887b-1e573e00e21f"
      },
      "execution_count": null,
      "outputs": [
        {
          "output_type": "execute_result",
          "data": {
            "text/plain": [
              "bool"
            ]
          },
          "metadata": {},
          "execution_count": 5
        }
      ]
    },
    {
      "cell_type": "code",
      "source": [
        "type(False)"
      ],
      "metadata": {
        "colab": {
          "base_uri": "https://localhost:8080/"
        },
        "id": "vosKv7eR6iF9",
        "outputId": "e0aabc23-1a36-4f23-eb49-1fba831bd33a"
      },
      "execution_count": null,
      "outputs": [
        {
          "output_type": "execute_result",
          "data": {
            "text/plain": [
              "bool"
            ]
          },
          "metadata": {},
          "execution_count": 6
        }
      ]
    },
    {
      "cell_type": "code",
      "source": [
        "type(true)"
      ],
      "metadata": {
        "colab": {
          "base_uri": "https://localhost:8080/",
          "height": 165
        },
        "id": "_PnYvq0u6Yxb",
        "outputId": "d3b47c07-43bc-48d8-d612-3b697b618753"
      },
      "execution_count": null,
      "outputs": [
        {
          "output_type": "error",
          "ename": "NameError",
          "evalue": "ignored",
          "traceback": [
            "\u001b[0;31m---------------------------------------------------------------------------\u001b[0m",
            "\u001b[0;31mNameError\u001b[0m                                 Traceback (most recent call last)",
            "\u001b[0;32m<ipython-input-7-6f4d8242c3d0>\u001b[0m in \u001b[0;36m<module>\u001b[0;34m()\u001b[0m\n\u001b[0;32m----> 1\u001b[0;31m \u001b[0mtype\u001b[0m\u001b[0;34m(\u001b[0m\u001b[0mtrue\u001b[0m\u001b[0;34m)\u001b[0m\u001b[0;34m\u001b[0m\u001b[0;34m\u001b[0m\u001b[0m\n\u001b[0m",
            "\u001b[0;31mNameError\u001b[0m: name 'true' is not defined"
          ]
        }
      ]
    },
    {
      "cell_type": "code",
      "source": [
        "type(false)"
      ],
      "metadata": {
        "colab": {
          "base_uri": "https://localhost:8080/",
          "height": 165
        },
        "id": "kItoSOkq6yIl",
        "outputId": "20c613dc-e936-4aa8-f8c8-defcb702c101"
      },
      "execution_count": null,
      "outputs": [
        {
          "output_type": "error",
          "ename": "NameError",
          "evalue": "ignored",
          "traceback": [
            "\u001b[0;31m---------------------------------------------------------------------------\u001b[0m",
            "\u001b[0;31mNameError\u001b[0m                                 Traceback (most recent call last)",
            "\u001b[0;32m<ipython-input-8-5d8f55c25b5e>\u001b[0m in \u001b[0;36m<module>\u001b[0;34m()\u001b[0m\n\u001b[0;32m----> 1\u001b[0;31m \u001b[0mtype\u001b[0m\u001b[0;34m(\u001b[0m\u001b[0mfalse\u001b[0m\u001b[0;34m)\u001b[0m\u001b[0;34m\u001b[0m\u001b[0;34m\u001b[0m\u001b[0m\n\u001b[0m",
            "\u001b[0;31mNameError\u001b[0m: name 'false' is not defined"
          ]
        }
      ]
    },
    {
      "cell_type": "code",
      "source": [
        "not True"
      ],
      "metadata": {
        "colab": {
          "base_uri": "https://localhost:8080/"
        },
        "id": "C89ft4XT7WRN",
        "outputId": "32397e6a-75ed-4e2d-e5eb-6611a0c02579"
      },
      "execution_count": null,
      "outputs": [
        {
          "output_type": "execute_result",
          "data": {
            "text/plain": [
              "False"
            ]
          },
          "metadata": {},
          "execution_count": 9
        }
      ]
    },
    {
      "cell_type": "code",
      "source": [
        "not False"
      ],
      "metadata": {
        "colab": {
          "base_uri": "https://localhost:8080/"
        },
        "id": "Gyjli_sW8ECD",
        "outputId": "0227ad2a-ea13-4973-f1dd-a45c19301e63"
      },
      "execution_count": null,
      "outputs": [
        {
          "output_type": "execute_result",
          "data": {
            "text/plain": [
              "True"
            ]
          },
          "metadata": {},
          "execution_count": 10
        }
      ]
    },
    {
      "cell_type": "code",
      "source": [
        "True and True"
      ],
      "metadata": {
        "colab": {
          "base_uri": "https://localhost:8080/"
        },
        "id": "J9KIScXY8H8c",
        "outputId": "fd584c93-c13b-4595-fe5d-63316b7a73e3"
      },
      "execution_count": null,
      "outputs": [
        {
          "output_type": "execute_result",
          "data": {
            "text/plain": [
              "True"
            ]
          },
          "metadata": {},
          "execution_count": 11
        }
      ]
    },
    {
      "cell_type": "code",
      "source": [
        "True and False"
      ],
      "metadata": {
        "colab": {
          "base_uri": "https://localhost:8080/"
        },
        "id": "JXttQJi18iTD",
        "outputId": "f77090a2-9a1b-4a2f-86d4-bbb7cecba287"
      },
      "execution_count": null,
      "outputs": [
        {
          "output_type": "execute_result",
          "data": {
            "text/plain": [
              "False"
            ]
          },
          "metadata": {},
          "execution_count": 13
        }
      ]
    },
    {
      "cell_type": "code",
      "source": [
        "False and True"
      ],
      "metadata": {
        "colab": {
          "base_uri": "https://localhost:8080/"
        },
        "id": "U-8xYyIt8s0j",
        "outputId": "eb7213d4-2f34-4678-892f-5b3561374c71"
      },
      "execution_count": null,
      "outputs": [
        {
          "output_type": "execute_result",
          "data": {
            "text/plain": [
              "False"
            ]
          },
          "metadata": {},
          "execution_count": 14
        }
      ]
    },
    {
      "cell_type": "code",
      "source": [
        "False and False"
      ],
      "metadata": {
        "colab": {
          "base_uri": "https://localhost:8080/"
        },
        "id": "xH3ENRHG8wlT",
        "outputId": "11cb8110-7729-4d19-b00d-0917c790e426"
      },
      "execution_count": null,
      "outputs": [
        {
          "output_type": "execute_result",
          "data": {
            "text/plain": [
              "False"
            ]
          },
          "metadata": {},
          "execution_count": 15
        }
      ]
    },
    {
      "cell_type": "code",
      "source": [
        "True or True"
      ],
      "metadata": {
        "colab": {
          "base_uri": "https://localhost:8080/"
        },
        "id": "2rgsK-hz84TD",
        "outputId": "cdc7791d-9b54-4241-a50d-6e73d6ebf042"
      },
      "execution_count": null,
      "outputs": [
        {
          "output_type": "execute_result",
          "data": {
            "text/plain": [
              "True"
            ]
          },
          "metadata": {},
          "execution_count": 19
        }
      ]
    },
    {
      "cell_type": "code",
      "source": [
        "True or False"
      ],
      "metadata": {
        "colab": {
          "base_uri": "https://localhost:8080/"
        },
        "id": "54Cngn619G5D",
        "outputId": "62c7d214-d0d9-4c99-dcf6-6fc9c27b1d09"
      },
      "execution_count": null,
      "outputs": [
        {
          "output_type": "execute_result",
          "data": {
            "text/plain": [
              "True"
            ]
          },
          "metadata": {},
          "execution_count": 20
        }
      ]
    },
    {
      "cell_type": "code",
      "source": [
        "False or True"
      ],
      "metadata": {
        "colab": {
          "base_uri": "https://localhost:8080/"
        },
        "id": "Yydik77s9LbU",
        "outputId": "0e14656a-df11-4408-ec5c-428548eba861"
      },
      "execution_count": null,
      "outputs": [
        {
          "output_type": "execute_result",
          "data": {
            "text/plain": [
              "True"
            ]
          },
          "metadata": {},
          "execution_count": 21
        }
      ]
    },
    {
      "cell_type": "code",
      "source": [
        "False or False"
      ],
      "metadata": {
        "colab": {
          "base_uri": "https://localhost:8080/"
        },
        "id": "0qOvk1KL9Vf0",
        "outputId": "1cc5c2e8-e0b4-4fa9-f871-2b4d097bf4b3"
      },
      "execution_count": null,
      "outputs": [
        {
          "output_type": "execute_result",
          "data": {
            "text/plain": [
              "False"
            ]
          },
          "metadata": {},
          "execution_count": 22
        }
      ]
    },
    {
      "cell_type": "code",
      "source": [
        "not 1"
      ],
      "metadata": {
        "colab": {
          "base_uri": "https://localhost:8080/"
        },
        "id": "9KRP0VgL9mXT",
        "outputId": "4fe6403c-f0e9-4b42-8274-3d6179876b57"
      },
      "execution_count": null,
      "outputs": [
        {
          "output_type": "execute_result",
          "data": {
            "text/plain": [
              "False"
            ]
          },
          "metadata": {},
          "execution_count": 23
        }
      ]
    },
    {
      "cell_type": "code",
      "source": [
        "not 0"
      ],
      "metadata": {
        "colab": {
          "base_uri": "https://localhost:8080/"
        },
        "id": "yZx2UhaO98yD",
        "outputId": "51e49626-7f39-45b3-f2e3-1417ac54ceb3"
      },
      "execution_count": null,
      "outputs": [
        {
          "output_type": "execute_result",
          "data": {
            "text/plain": [
              "True"
            ]
          },
          "metadata": {},
          "execution_count": 24
        }
      ]
    },
    {
      "cell_type": "code",
      "source": [
        "p,q,r = eval(input(\"Enter the three number: \"))\n",
        "print(\"p= \", p,\"q=\",q, \"r= \",r)\n",
        "print(\"(p > q > r) is \" , p>q>r)\n",
        "print(\"(p <  q < r) is \" ,p<q<r)\n",
        "print(\"(p < q < r) is \" ,p<q<r)\n",
        "print(\"((p<q) and (q>r)) is : \",(p < q) and (q > r))\n",
        "print(\"((p < q) or (q > r)) is \" , (p < q) or (q > r))"
      ],
      "metadata": {
        "colab": {
          "base_uri": "https://localhost:8080/"
        },
        "id": "4EXGQmXS-Nfz",
        "outputId": "78395d38-3a95-44e6-df92-f12bd0b4f8f4"
      },
      "execution_count": null,
      "outputs": [
        {
          "output_type": "stream",
          "name": "stdout",
          "text": [
            "Enter the three number: 1,2,3\n",
            "p=  1 q= 2 r=  3\n",
            "(p > q > r) is  False\n",
            "(p <  q < r) is  True\n",
            "(p < q < r) is  True\n",
            "((p<q) and (q>r)) is :  False\n",
            "((p < q) or (q > r)) is  True\n"
          ]
        }
      ]
    },
    {
      "cell_type": "code",
      "source": [
        "#write a program to check whether the number is greater or not\n",
        "a,b = eval(input(\"Enter the number : \"))\n",
        "if (a==b):\n",
        "  print(\"Both the numbers are equal\")\n"
      ],
      "metadata": {
        "colab": {
          "base_uri": "https://localhost:8080/"
        },
        "id": "6CcuRoAaBnaR",
        "outputId": "69b04899-12b8-4a27-fd15-b376e2cb9bfb"
      },
      "execution_count": null,
      "outputs": [
        {
          "output_type": "stream",
          "name": "stdout",
          "text": [
            "Enter the number : 15,15\n",
            "Both the numbers are equal\n"
          ]
        }
      ]
    },
    {
      "cell_type": "code",
      "source": [
        "#write a program to check the number is even or odd using the If-Else statements\n",
        "n = int(input(\"Enter the number : \"))\n",
        "if n%2 == 0:\n",
        "   print(n,\" is even\")\n",
        "else:\n",
        "    print(n,\" is odd\")"
      ],
      "metadata": {
        "colab": {
          "base_uri": "https://localhost:8080/"
        },
        "id": "FyzFwfmUEA_Q",
        "outputId": "5c47740e-706a-4e84-d7d8-611bbb0fd908"
      },
      "execution_count": null,
      "outputs": [
        {
          "output_type": "stream",
          "name": "stdout",
          "text": [
            "Enter the number : 10\n",
            "10  is even\n"
          ]
        }
      ]
    },
    {
      "cell_type": "code",
      "source": [
        "#write a program to caheck whether the number is multiple of 5 or not using If-else statements\n",
        "a = int(input(\"Enter a number : \"))\n",
        "if(a%5 == 0):\n",
        "   print(\"Hello\")\n",
        "else:\n",
        "      print(\"Bye\")\n",
        "\n"
      ],
      "metadata": {
        "colab": {
          "base_uri": "https://localhost:8080/"
        },
        "id": "odkkuoYBGwVh",
        "outputId": "2b001168-d1f2-4642-d952-ea8278d644b9"
      },
      "execution_count": null,
      "outputs": [
        {
          "output_type": "stream",
          "name": "stdout",
          "text": [
            "Enter a number : 20\n",
            "Hello\n"
          ]
        }
      ]
    },
    {
      "cell_type": "code",
      "source": [
        "#write a program to check whether the last digit of a three digit number is divisible\n",
        "a = eval(input(\"Enter the three digit number\"))\n",
        "x=a//100\n",
        "y=(a%100)//10\n",
        "c =a%10\n",
        "if c%3==0:\n",
        " print(\"the last number is divisible by 3\")\n",
        "else:\n",
        "  print(\"the last digit is not divisible  by 3\")"
      ],
      "metadata": {
        "colab": {
          "base_uri": "https://localhost:8080/"
        },
        "id": "oDO7YuARHkkk",
        "outputId": "3284cb54-a8a2-4ac5-c448-745503821e33"
      },
      "execution_count": null,
      "outputs": [
        {
          "output_type": "stream",
          "name": "stdout",
          "text": [
            "Enter the three digit number369\n",
            "the last number is divisible by 3\n"
          ]
        }
      ]
    },
    {
      "cell_type": "code",
      "source": [
        "#write a program to find the monument of the corresponding city using Elseif statements\n",
        "City = input(\"Enter theName of the City\")\n",
        "if(City == \"Delhi\"):\n",
        "   print(\"The Monument is Delhi is RedFort\")\n",
        "elif(City == \"Agra\"):\n",
        "  print(\"The Monument in Agra is Taj Mahal\")\n",
        "else:\n",
        "  print(\"The Monument Jaipur is Jal Mahal\")"
      ],
      "metadata": {
        "colab": {
          "base_uri": "https://localhost:8080/"
        },
        "id": "BOkYflS4J4XP",
        "outputId": "70bf546e-9e29-40b8-9505-986b9ebd6572"
      },
      "execution_count": null,
      "outputs": [
        {
          "output_type": "stream",
          "name": "stdout",
          "text": [
            "Enter theName of the Citylucknow\n",
            "The Monument Jaipur is Jal Mahal\n"
          ]
        }
      ]
    },
    {
      "cell_type": "code",
      "source": [
        "#write a program to find the present day of the week\n",
        "a=eval(input(\"Enter the number of the day\"))\n",
        "if a==1:\n",
        " print(\"It is Monday\")\n",
        "elif a==2:\n",
        "  print(\"It is Tuesday\")\n",
        "elif a==3 :\n",
        "  print(\"It is Wednesday\")\n",
        "elif a==4:\n",
        "  print(\"It is Thurday\")\n",
        "elif b==5:\n",
        "  print(\"It is Friday\")\n",
        "elif b==6:\n",
        "  print(\"It is Saturday\")\n",
        "elif b==2:\n",
        "  print(\"It is Sunday\")"
      ],
      "metadata": {
        "colab": {
          "base_uri": "https://localhost:8080/"
        },
        "id": "E2gjhZ7-Lo2-",
        "outputId": "593f7f25-8491-4d14-f9cf-505403e29223"
      },
      "execution_count": null,
      "outputs": [
        {
          "output_type": "stream",
          "name": "stdout",
          "text": [
            "Enter the number of the day2\n",
            "It is Tuesday\n"
          ]
        }
      ]
    },
    {
      "cell_type": "code",
      "source": [
        "#write a program to find area and circumference of the circle if the radius of the circle \n",
        "r=eval(input(\"Enter the radius of the circle :\"))\n",
        "if(r>0):\n",
        "   area=3.14*r*r\n",
        "   circumference=2*3.14*r\n",
        "   print(\"The circumference of the circle is\",area)\n",
        "   print(\"The circumference of the circle is\",circumference)\n",
        "else:\n",
        "   print(\"The radius of the circle is not sufficient\")"
      ],
      "metadata": {
        "colab": {
          "base_uri": "https://localhost:8080/"
        },
        "id": "fNOwepEMIl7R",
        "outputId": "01b54f7d-5ce4-4c7f-987b-e951a02ca3af"
      },
      "execution_count": null,
      "outputs": [
        {
          "output_type": "stream",
          "name": "stdout",
          "text": [
            "Enter the radius of the circle :2\n",
            "The circumference of the circle is 12.56\n",
            "The circumference of the circle is 12.56\n"
          ]
        }
      ]
    },
    {
      "cell_type": "code",
      "source": [
        "#write a program to find the greater number among two numbers\n",
        "a = int(input (\"Enter a :\"))\n",
        "b = int(input(\"Enter b :\")) \n",
        "if(a>b):\n",
        "   print(\"a is greater than b\")\n",
        "else:\n",
        " print(\"b is greater than a\")"
      ],
      "metadata": {
        "colab": {
          "base_uri": "https://localhost:8080/"
        },
        "id": "b0CIVgNDNT6u",
        "outputId": "e00f4024-f785-4b5a-e9e3-29dfce2de986"
      },
      "execution_count": null,
      "outputs": [
        {
          "output_type": "stream",
          "name": "stdout",
          "text": [
            "Enter a :2\n",
            "Enter b :40\n",
            "b is greater than a\n"
          ]
        }
      ]
    },
    {
      "cell_type": "code",
      "source": [
        "#write a program to find check whwther the input first number is greater thanother\n",
        "num1 = eval(input(\"Enter the number1: \"))\n",
        "num2 = eval(input(\"Enter the number2: \"))\n",
        "num3 = eval(input(\"Enter the number3: \"))\n",
        "if(num1 > num2):\n",
        " if(num1> num2):\n",
        "  print(num1, \" is greater than\", num2, \"and\" ,num3)\n",
        "else:\n",
        "   print(num1, \"is less than \", num2, \"and\" , num3)\n",
        "\n"
      ],
      "metadata": {
        "colab": {
          "base_uri": "https://localhost:8080/"
        },
        "id": "vctTEK8vuBVp",
        "outputId": "d8f7fa17-6ef3-48da-9c45-e17d681f3e18"
      },
      "execution_count": null,
      "outputs": [
        {
          "output_type": "stream",
          "name": "stdout",
          "text": [
            "Enter the number1: 3\n",
            "Enter the number2: 4\n",
            "Enter the number3: 5\n",
            "3 is less than  4 and 5\n"
          ]
        }
      ]
    },
    {
      "cell_type": "code",
      "source": [
        "#writre a progarm to [perform arithmetic operation for the input numbers]\n",
        "num1 = eval(input(\"Enter the number1: \"))\n",
        "num2 = eval(input(\"Enter the number2: \"))\n",
        "print(\"1: Addition\")\n",
        "print(\"2: Subtraction\")\n",
        "print(\"3: Multiplication\")\n",
        "print(\"4: Integer Division\")\n",
        "print(\"5: Floor Division\")\n",
        "choice = int(input(\"Please Enter the Choice\"))\n",
        "if(choice == 1):\n",
        "  print(\"Addition of\",num1,\"and\", num2, \"is:\",num1 + num2)\n",
        "elif(choice == 2):\n",
        "    print(\"Subtraction of\",num1,\"and\", num2, \"is:\",num1 - num2)\n",
        "elif(choice == 3):\n",
        "      print(\"Multiplication of\",num1,\"and\", num2, \"is:\",num1 * num2)\n",
        "elif(choice == 4):\n",
        "      print(\"Integer Division of\",num1,\"and\", num2, \"is:\",num1 / num2)\n",
        "elif(choice == 5): \n",
        "      print(\"Floor Division of\",num1,\"and\", num2, \"is:\",num1 // num2)\n",
        "else:\n",
        "  print(\"Sorry!!! Invalid Choice\")\n",
        "\n",
        "\n",
        "\n",
        "\n",
        "\n",
        "\n",
        "\n",
        "\n",
        "\n",
        "\n",
        "\n",
        "\n"
      ],
      "metadata": {
        "colab": {
          "base_uri": "https://localhost:8080/"
        },
        "id": "uRpoca6PvtMb",
        "outputId": "b5c79562-2658-435e-b494-ac10b9792b6e"
      },
      "execution_count": null,
      "outputs": [
        {
          "output_type": "stream",
          "name": "stdout",
          "text": [
            "Enter the number1: 565\n",
            "Enter the number2: 5\n",
            "1: Addition\n",
            "2: Subtraction\n",
            "3: Multiplication\n",
            "4: Integer Division\n",
            "5: Floor Division\n",
            "Please Enter the Choice5\n",
            "Floor Division of 565 and 5 is: 113\n"
          ]
        }
      ]
    },
    {
      "cell_type": "code",
      "source": [
        "#write a program to calculate square of only those numbers whose least signincant digit is 5\n",
        "a = eval(input(\"Enter the number :\"))\n",
        "digit=(a%5)\n",
        "if(digit==5):\n",
        "  res=a*a\n",
        "  print(\"The least significant digit of\",a,\"is divisible by 5 , so it's square is \",res)\n",
        "else:\n",
        "  print(\"The last significant number is not divisible by 5\")\n",
        " "
      ],
      "metadata": {
        "id": "sHNPpOWw0bPg",
        "colab": {
          "base_uri": "https://localhost:8080/"
        },
        "outputId": "606dfed3-baf2-42e9-88b3-3f2960585fdb"
      },
      "execution_count": null,
      "outputs": [
        {
          "output_type": "stream",
          "name": "stdout",
          "text": [
            "Enter the number :625\n",
            "The last significant number is not divisible by 5\n"
          ]
        }
      ]
    }
  ]
}