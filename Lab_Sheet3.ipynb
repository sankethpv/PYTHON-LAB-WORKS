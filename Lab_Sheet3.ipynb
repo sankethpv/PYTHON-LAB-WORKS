{
  "nbformat": 4,
  "nbformat_minor": 0,
  "metadata": {
    "colab": {
      "name": "Lab_Sheet3.ipynb",
      "provenance": [],
      "collapsed_sections": []
    },
    "kernelspec": {
      "name": "python3",
      "display_name": "Python 3"
    },
    "language_info": {
      "name": "python"
    }
  },
  "cells": [
    {
      "cell_type": "code",
      "execution_count": null,
      "metadata": {
        "colab": {
          "base_uri": "https://localhost:8080/"
        },
        "id": "Dc_icyH45Z1H",
        "outputId": "879e77e6-4f58-4d3b-e97c-fc6c34c267e7"
      },
      "outputs": [
        {
          "output_type": "stream",
          "name": "stdout",
          "text": [
            "<class 'bool'>\n",
            "<class 'bool'>\n"
          ]
        }
      ],
      "source": [
        "#boolean Operators\n",
        "#True\n",
        "#False\n",
        "a=type(True)\n",
        "print(a)\n",
        "b=type(False)\n",
        "print(b)"
      ]
    },
    {
      "cell_type": "code",
      "source": [
        "c=type(true)\n",
        "print(c )"
      ],
      "metadata": {
        "colab": {
          "base_uri": "https://localhost:8080/",
          "height": 183
        },
        "id": "fM7Av2MP60fw",
        "outputId": "5393e7f6-0461-4439-922b-e85eb215b2b7"
      },
      "execution_count": null,
      "outputs": [
        {
          "output_type": "error",
          "ename": "NameError",
          "evalue": "ignored",
          "traceback": [
            "\u001b[0;31m---------------------------------------------------------------------------\u001b[0m",
            "\u001b[0;31mNameError\u001b[0m                                 Traceback (most recent call last)",
            "\u001b[0;32m<ipython-input-6-49fbc00f3002>\u001b[0m in \u001b[0;36m<module>\u001b[0;34m()\u001b[0m\n\u001b[0;32m----> 1\u001b[0;31m \u001b[0mc\u001b[0m\u001b[0;34m=\u001b[0m\u001b[0mtype\u001b[0m\u001b[0;34m(\u001b[0m\u001b[0mtrue\u001b[0m\u001b[0;34m)\u001b[0m\u001b[0;34m\u001b[0m\u001b[0;34m\u001b[0m\u001b[0m\n\u001b[0m\u001b[1;32m      2\u001b[0m \u001b[0mprint\u001b[0m\u001b[0;34m(\u001b[0m\u001b[0mc\u001b[0m \u001b[0;34m)\u001b[0m\u001b[0;34m\u001b[0m\u001b[0;34m\u001b[0m\u001b[0m\n",
            "\u001b[0;31mNameError\u001b[0m: name 'true' is not defined"
          ]
        }
      ]
    },
    {
      "cell_type": "code",
      "source": [
        "c=type(false)\n",
        "print(c)"
      ],
      "metadata": {
        "colab": {
          "base_uri": "https://localhost:8080/",
          "height": 183
        },
        "id": "nrAmtxoe66zH",
        "outputId": "37646cac-d078-4475-b0a3-69dcb6c07aab"
      },
      "execution_count": null,
      "outputs": [
        {
          "output_type": "error",
          "ename": "NameError",
          "evalue": "ignored",
          "traceback": [
            "\u001b[0;31m---------------------------------------------------------------------------\u001b[0m",
            "\u001b[0;31mNameError\u001b[0m                                 Traceback (most recent call last)",
            "\u001b[0;32m<ipython-input-5-8dc4a12b2802>\u001b[0m in \u001b[0;36m<module>\u001b[0;34m()\u001b[0m\n\u001b[0;32m----> 1\u001b[0;31m \u001b[0mc\u001b[0m\u001b[0;34m=\u001b[0m\u001b[0mtype\u001b[0m\u001b[0;34m(\u001b[0m\u001b[0mfalse\u001b[0m\u001b[0;34m)\u001b[0m\u001b[0;34m\u001b[0m\u001b[0;34m\u001b[0m\u001b[0m\n\u001b[0m\u001b[1;32m      2\u001b[0m \u001b[0mprint\u001b[0m\u001b[0;34m(\u001b[0m\u001b[0mc\u001b[0m\u001b[0;34m)\u001b[0m\u001b[0;34m\u001b[0m\u001b[0;34m\u001b[0m\u001b[0m\n",
            "\u001b[0;31mNameError\u001b[0m: name 'false' is not defined"
          ]
        }
      ]
    },
    {
      "cell_type": "code",
      "source": [
        "#Not operators\n",
        "a=not True\n",
        "print(a)\n",
        "b=not False\n",
        "print(b)"
      ],
      "metadata": {
        "colab": {
          "base_uri": "https://localhost:8080/"
        },
        "id": "UeayaXZV7B4e",
        "outputId": "b61d157c-0bb4-484f-8dcb-35995950bec3"
      },
      "execution_count": null,
      "outputs": [
        {
          "output_type": "stream",
          "name": "stdout",
          "text": [
            "False\n",
            "True\n"
          ]
        }
      ]
    },
    {
      "cell_type": "code",
      "source": [
        "#AND Operators\n",
        "a=True and True\n",
        "b=False and False\n",
        "c=True and False\n",
        "d=False and True\n",
        "print(a,b,c,d)"
      ],
      "metadata": {
        "colab": {
          "base_uri": "https://localhost:8080/"
        },
        "id": "4EOwxGtj8Poc",
        "outputId": "5c14dab2-eb81-4572-96ea-360b43140cf5"
      },
      "execution_count": null,
      "outputs": [
        {
          "output_type": "stream",
          "name": "stdout",
          "text": [
            "True False False False\n"
          ]
        }
      ]
    },
    {
      "cell_type": "code",
      "source": [
        "#OR Operator\n",
        "a=True or True\n",
        "b=False or False\n",
        "c=True or False\n",
        "d=False or True\n",
        "print(a,b,c,d)\n"
      ],
      "metadata": {
        "colab": {
          "base_uri": "https://localhost:8080/"
        },
        "id": "eMXVf4Cd82tp",
        "outputId": "4e388140-2b7c-42cd-d8de-7bd791ce07d5"
      },
      "execution_count": null,
      "outputs": [
        {
          "output_type": "stream",
          "name": "stdout",
          "text": [
            "True False True True\n"
          ]
        }
      ]
    },
    {
      "cell_type": "code",
      "source": [
        "#Numbers in boolean expression\n",
        "a=not 1\n",
        "print(a)\n",
        "b=not 0\n",
        "print(b)"
      ],
      "metadata": {
        "colab": {
          "base_uri": "https://localhost:8080/"
        },
        "id": "6_-_nRR99cII",
        "outputId": "2be0335e-7ec8-4a9e-ef05-a7ba70a926ad"
      },
      "execution_count": null,
      "outputs": [
        {
          "output_type": "stream",
          "name": "stdout",
          "text": [
            "False\n",
            "True\n"
          ]
        }
      ]
    },
    {
      "cell_type": "code",
      "source": [
        "#Write the program to evaliate the follwing coditions and take the input from the user\n",
        "p,q,r=eval(input(\"Enter the three numbers\"))\n",
        "print(\"The three numbers are\",p,q,r)\n",
        "a=(p<q<r)\n",
        "b=(p>q>r)\n",
        "c=(p<q) and (q<r)\n",
        "d=(p<q) or (q<r)\n",
        "print(\"p<q<r is\",a)\n",
        "print(\"p>q>r is \",b)\n",
        "print(\"(p<q) and (q<r)\",c)\n",
        "print(\"(p<q) or (q>r)\",d)\n"
      ],
      "metadata": {
        "colab": {
          "base_uri": "https://localhost:8080/"
        },
        "id": "mMpxYaOS-K4O",
        "outputId": "230c50a3-a563-4a6d-c8da-03a50ae45e97"
      },
      "execution_count": null,
      "outputs": [
        {
          "output_type": "stream",
          "name": "stdout",
          "text": [
            "Enter the three numbers1,2,3\n",
            "The three numbers are 1 2 3\n",
            "p<q<r is True\n",
            "p>q>r is  False\n",
            "(p<q) and (q<r) True\n",
            "(p<q) or (q>r) True\n"
          ]
        }
      ]
    },
    {
      "cell_type": "code",
      "source": [
        "#Decision Making Statements\n",
        "#1.If statements\n",
        "#2.If-Else statements\n",
        "#3.Nested If Statemnts "
      ],
      "metadata": {
        "id": "CfEX5z26BoJx"
      },
      "execution_count": null,
      "outputs": []
    },
    {
      "cell_type": "code",
      "source": [
        "#write a program to check whether the number is greater or not\n",
        "a,b=eval(input(\"Enter the two numbers\"))\n",
        "print(\"The two numbers are\",a,b)\n",
        "if a==b:\n",
        "  print(\"The two numbers are Equal\")\n"
      ],
      "metadata": {
        "colab": {
          "base_uri": "https://localhost:8080/"
        },
        "id": "-ZBm6uXOFYOd",
        "outputId": "6185940f-e932-4842-b163-0a26f6ae7ec9"
      },
      "execution_count": null,
      "outputs": [
        {
          "output_type": "stream",
          "name": "stdout",
          "text": [
            "Enter the two numbers10,10\n",
            "The two numbers are 10 10\n",
            "The two numbers are Equal\n"
          ]
        }
      ]
    },
    {
      "cell_type": "code",
      "source": [
        "#Write a program to check whether the number is even or odd using IF-Else statements condition\n",
        "a=eval(input(\"Enter the number\"))\n",
        "if a%2==0:\n",
        "  print(\"The number is Even\")\n",
        "else:\n",
        "  print(\"The number is Odd\")"
      ],
      "metadata": {
        "colab": {
          "base_uri": "https://localhost:8080/"
        },
        "id": "bcCvzTIyEKEz",
        "outputId": "7a97495a-bb89-436e-f6ae-a8d6c239b8cf"
      },
      "execution_count": null,
      "outputs": [
        {
          "output_type": "stream",
          "name": "stdout",
          "text": [
            "Enter the number55\n",
            "The number is Odd\n"
          ]
        }
      ]
    },
    {
      "cell_type": "code",
      "source": [
        "#Write a program to check whether the number is multiple of 5 or not using IF-Else statements condition\n",
        "a=eval(input(\"Enter the number\"))\n",
        "if a%5==0:\n",
        "  print(\"Hello\")\n",
        "else:\n",
        "  print(\"Bye\")"
      ],
      "metadata": {
        "colab": {
          "base_uri": "https://localhost:8080/"
        },
        "id": "5XwFqoTEGzz9",
        "outputId": "0249bdfc-dd18-4cf8-ed0c-70fdf9ba1e2f"
      },
      "execution_count": null,
      "outputs": [
        {
          "output_type": "stream",
          "name": "stdout",
          "text": [
            "Enter the number105\n",
            "Hello\n"
          ]
        }
      ]
    },
    {
      "cell_type": "code",
      "source": [
        "#Write program to check whether the last digit of a three digit number is divisible by 3 or not using If-Else statement\n",
        "N=eval(input(\"Enter the three digit number\"))\n",
        "a=N//100\n",
        "b=(N%100)//10\n",
        "c=N%10\n",
        "if c%3==0:\n",
        "  print(\"the last digit is divisible by 3\")\n",
        "else:\n",
        "  print(\"The last digit is not divisible by 3\")"
      ],
      "metadata": {
        "colab": {
          "base_uri": "https://localhost:8080/"
        },
        "id": "SOeewAxAHib3",
        "outputId": "59a5a926-87f4-4e41-9f63-39ab8580bfca"
      },
      "execution_count": null,
      "outputs": [
        {
          "output_type": "stream",
          "name": "stdout",
          "text": [
            "Enter the three digit number323\n",
            "the last digit is divisible\n"
          ]
        }
      ]
    },
    {
      "cell_type": "code",
      "source": [
        "#Write a program to find the monument of the coresponding city using ElseIf statements\n",
        "a=input(\"Enter the name of the\")\n",
        "if a =='Delhi':\n",
        "  print(\"The monument in Delhi is Red Fort\")\n",
        "elif (a=='Agra'):\n",
        "  print(\"The monument in Agra is  Taj Mahal\")\n",
        "else:\n",
        "   print(\"The monument in Jaipur is  Jal Mahal\") \n",
        "\n"
      ],
      "metadata": {
        "colab": {
          "base_uri": "https://localhost:8080/"
        },
        "id": "A1xfQZg9JR9d",
        "outputId": "daef6966-4e13-4806-94ae-fee4394f2490"
      },
      "execution_count": null,
      "outputs": [
        {
          "output_type": "stream",
          "name": "stdout",
          "text": [
            "Enter the name of theAgra\n",
            "The monument in Agra is  Taj Mahal\n"
          ]
        }
      ]
    },
    {
      "cell_type": "code",
      "source": [
        "#Write a program to find the present day of the week\n",
        "a=eval(input(\"Enter the number of the day\"))\n",
        "if a==1:\n",
        "  print(\"It is Monday\")\n",
        "elif a==2:\n",
        "  print(\"It is Tuesday\")\n",
        "elif a==3:\n",
        "  print(\"It is wednesday\")\n",
        "elif a==4:\n",
        "  print(\"It is Thursday\")\n",
        "elif a==5:\n",
        "  print(\"It is Friday\")\n",
        "elif a==6:\n",
        "  print(\"It is Saturday\")\n",
        "elif a==7:\n",
        "  print(\"It is Sunday\")\n",
        "else:\n",
        "  print(\"There are  only seven days in a week\")"
      ],
      "metadata": {
        "colab": {
          "base_uri": "https://localhost:8080/"
        },
        "id": "xwmacVGOLkgE",
        "outputId": "3091d505-0bf3-4b54-a494-367ce00b3cfc"
      },
      "execution_count": null,
      "outputs": [
        {
          "output_type": "stream",
          "name": "stdout",
          "text": [
            "Enter the number of the day5\n",
            "It is Friday\n"
          ]
        }
      ]
    },
    {
      "cell_type": "code",
      "source": [
        "#Write a program to find the graeter number among two numbers\n",
        "a,b=eval(input(\"Enter the two numbers\"))\n",
        "print(\"The two numbers are\",a,b)\n",
        "if a>b:\n",
        "  print(\"a is greater than b\")\n",
        "else:\n",
        "  print(\"b is greater than a\")\n"
      ],
      "metadata": {
        "colab": {
          "base_uri": "https://localhost:8080/"
        },
        "id": "wW-fNxCxM3wC",
        "outputId": "9603c976-31aa-4475-d8f1-4db2473e9adb"
      },
      "execution_count": null,
      "outputs": [
        {
          "output_type": "stream",
          "name": "stdout",
          "text": [
            "Enter the two numbers10,20\n",
            "The two numbers are 10 20\n",
            "b is greater than a\n"
          ]
        }
      ]
    }
  ]
}